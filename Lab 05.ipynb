{
 "cells": [
  {
   "attachments": {},
   "cell_type": "markdown",
   "metadata": {},
   "source": [
    "Develop a program to find and display the minimum and the maximum among 10 numbers separated by white spaces (see the example) entered from the keyboard. You must use a list to store the numbers entered. The numbers can be negative or non-integers."
   ]
  },
  {
   "cell_type": "code",
   "execution_count": null,
   "metadata": {},
   "outputs": [],
   "source": [
    "val = input() #getting inputs from user\n",
    "num = val.split() #splitting the user input by spaces and assigning to the list variable num\n",
    "numbers = [] \n",
    "for j in num: #iterating through the num list\n",
    "    new_num = float(j) #converting the list elements in floats\n",
    "    numbers.append(new_num) #appending the converted floats to the int_num list\n",
    "minimum = min(numbers) #getting the minimum\n",
    "maximum = max(numbers) #getting the maximum\n",
    "maximum_s = str(maximum)\n",
    "minimum_s = str(minimum)\n",
    "\n",
    "if (minimum_s not in num):\n",
    "    print(\"Minimum =\",int(minimum_s[:len(minimum_s)-2]))\n",
    "else:\n",
    "    print(\"Minimum =\",minimum)\n",
    "\n",
    "\n",
    "if (maximum_s not in num):\n",
    "    print(\"Maximum =\",int(maximum_s[:len(maximum_s)-2]))\n",
    "else:\n",
    "    print(\"Maximum =\",maximum)\n",
    "\n",
    "\n"
   ]
  },
  {
   "attachments": {},
   "cell_type": "markdown",
   "metadata": {},
   "source": [
    "Develop a program to read the names of two sports that you and your friends love to play and watch. Then generate all sentences where the subject is in [\"I\", \"We\"], the verb is in [\"play\", \"watch\"] and the object is in the two sports. Use lists to store the words and generate the sentences by iterating through the lists using deeply nested loops"
   ]
  },
  {
   "cell_type": "code",
   "execution_count": null,
   "metadata": {},
   "outputs": [],
   "source": [
    "#Exercise02\n",
    "prompt = input() #getting inputs from the user\n",
    "sports = prompt.split() #splitting the user input by spaces and assigning to the list variable sports\n",
    "subjects = [\"I\",\"We\"] #list containing the subjects\n",
    "verbs = [\"play\",\"watch\"] #list containing the verbs\n",
    "\n",
    "for subject in subjects: #iterating through the subjects list\n",
    "    for sport in sports: #iterating through the sports list\n",
    "        for verb in verbs: #iterating through the verbs list\n",
    "            print(subject+\" \"+verb+\" \"+sport+\".\") #printing outputs\n"
   ]
  },
  {
   "attachments": {},
   "cell_type": "markdown",
   "metadata": {},
   "source": [
    "Suppose there are 4 students each having marks of 3 subjects. Develop a program to read the marks from the keyboard and calculate and display the total marks and average mark (rounded off to one decimal point) of each student. Use a 2D (two-dimensional) list to store the marks."
   ]
  },
  {
   "cell_type": "code",
   "execution_count": null,
   "metadata": {},
   "outputs": [],
   "source": [
    "#Exercise03\n",
    "marks = []\n",
    "for j in range(4): #\n",
    "    val = input().split()\n",
    "    for i in range(len(val)):\n",
    "        val[i] = int(val[i])\n",
    "    marks.append(val)\n",
    "for x in marks:\n",
    "    total = sum(x)\n",
    "    average = round(total/len(x),1)\n",
    "    print(\"Total:\",total,\"Average:\",average)"
   ]
  },
  {
   "attachments": {},
   "cell_type": "markdown",
   "metadata": {},
   "source": [
    "Develop a program to input a matrix with any dimension and output the transpose of that matrix. You should stop accepting the rows when -1 is entered as the input. Use a 2D (two-dimensional) list to store the matrix. You should handle the exceptions such as checking the invalid rows with an inconsistent number of elements.\n",
    "\n",
    "Note: Print “Invalid Matrix” as the error message for invalid rows with an inconsistent number of elements. Print “Error” for any other exceptions you are handling."
   ]
  },
  {
   "cell_type": "code",
   "execution_count": null,
   "metadata": {},
   "outputs": [],
   "source": [
    "#Exercise04\n",
    "try:\n",
    "    matrix = []\n",
    "    while True:\n",
    "        n = input() #Promting the user to inter values \n",
    "        if (n==\"-1\"): #If the input is -1, exit the loop\n",
    "            break\n",
    "        val = n.split() #Split user inputs by whitespaces\n",
    "        temp = []\n",
    "        for j in val:\n",
    "            temp.append(int(j)) #Converting the input values into integers and then appending those valus to the temp list\n",
    "        matrix.append(temp) #Appending the temp list to the matrix list(as rows)\n",
    "    transpose = []\n",
    "    row_len_list = []\n",
    "    for i in matrix:\n",
    "        row_len_list.append(len(i)) #Appending the length of each row the row_len list\n",
    "        row_len_set = set(row_len_list) #Converting the rown_len list into a set inorder to remove duplicates\n",
    "        if len(row_len_set) != 1: #Checking whether there exists more than one distinct row lengths\n",
    "            print(\"Invalid Matrix\") #Printing the error message\n",
    "            break\n",
    "    else:\n",
    "        for i in range(len(matrix[0])): #Iterating over the colomns of the matrix \n",
    "            temp_transpose = []\n",
    "            for j in range(len(matrix)): #Iterating over the rows of the matrix\n",
    "                transpose_element = matrix[j][i] #Changing the positions to get the transpose element \n",
    "                temp_transpose.append(transpose_element) #Appending the transpose_element values to the list\n",
    "            transpose.append(temp_transpose) #Appending the list to the main transpose list\n",
    "        for row in transpose:\n",
    "            for element in row:\n",
    "                print(element,end=\" \") #Printing the element with a space next to it\n",
    "            print() #Printing a newline after every rwo\n",
    "except: #Handling all the exceptions that get raised\n",
    "    print(\"Error\") #Printing the error message\n"
   ]
  }
 ],
 "metadata": {
  "kernelspec": {
   "display_name": "Python 3",
   "language": "python",
   "name": "python3"
  },
  "language_info": {
   "codemirror_mode": {
    "name": "ipython",
    "version": 3
   },
   "file_extension": ".py",
   "mimetype": "text/x-python",
   "name": "python",
   "nbconvert_exporter": "python",
   "pygments_lexer": "ipython3",
   "version": "3.10.2"
  },
  "orig_nbformat": 4
 },
 "nbformat": 4,
 "nbformat_minor": 2
}
