{
 "cells": [
  {
   "attachments": {},
   "cell_type": "markdown",
   "metadata": {},
   "source": [
    "Develop a program that takes as input a series of positive integers and outputs whether each is a prime. The program should terminate if a negative integer is given as the input. \n",
    "\n",
    "A prime number is a number that is divisible by only 1 and itself. However 1 is not considered a prime number. "
   ]
  },
  {
   "cell_type": "code",
   "execution_count": null,
   "metadata": {},
   "outputs": [],
   "source": [
    "import math #importing math module\n",
    "while True:\n",
    "    num = int(input()) #getting inputs from user\n",
    "    if (num<0): #checking whether the input is zero and if it is true then terminates the program\n",
    "        break\n",
    "    elif (num==0 or num==1): #checking whether the input is zero or one\n",
    "        print(\"non-prime\")\n",
    "    else:\n",
    "        #defining prime and non_primes lists \n",
    "        non_primes = []\n",
    "        primes = []\n",
    "        limit = round(math.sqrt(num)) \n",
    "        for j in range(2,limit+1): #looping from 2 to the sqrt of the input (it is a sufficient condition)\n",
    "            if (num%j==0): #condtion for non-primes\n",
    "                non_primes.append(num) #appending non-primes to the relavant list\n",
    "            else:\n",
    "                primes.append(num) #appending primes to the prime list\n",
    "        if num in non_primes:\n",
    "            print(\"non-prime\")\n",
    "        else:\n",
    "            print(\"prime\")"
   ]
  },
  {
   "attachments": {},
   "cell_type": "markdown",
   "metadata": {},
   "source": [
    "In number theory, an abundant number is a number for which the sum of its proper divisors is greater than the number itself. The integer 12 is the first abundant number. Its proper divisors are 1, 2, 3, 4 and 6 which sums up to 16. So the total is greater than the number 12. The integer 14 is not an abundant number. Its proper divisors are 1, 2 and 7 which sums up to 10. So the total is not greater than the number 14.\n",
    "\n",
    "Develop a Python program to take as input a positive integer n greater than 1 and output the number of abundant numbers from 2 to n inclusive. Output 'Input number: Invalid Input' for inputs less than 2."
   ]
  },
  {
   "cell_type": "code",
   "execution_count": null,
   "metadata": {},
   "outputs": [],
   "source": [
    "#defining abundant and elements as lists\n",
    "abundant = [] \n",
    "elements = []\n",
    "n = int(input(\"Input number: \")) #getting inputs from user \n",
    "if (n<2): #condtion if the inputs is less than 2 \n",
    "    print(\"Invalid Input\")\n",
    "else:\n",
    "    #looping from 2 to inclusive n and appending the values to a list\n",
    "    for j in range(2,n+1): \n",
    "        elements.append(j)\n",
    "    #iterating through the elements list\n",
    "    for num in elements:\n",
    "        proper_div = []\n",
    "        for k in range(1,num):\n",
    "            if (num%k==0): #checking for prover divisors and appending them to the list \n",
    "                proper_div.append(k)\n",
    "        val = sum(proper_div) #takign the sum of the proper divisors and assigning it to the variable val\n",
    "        if (val>num): #checking whether val is greater than number and if it is True then we append it to the abudant list\n",
    "            abundant.append(num)\n",
    "    print(\"Number of abundant numbers from 1 to\",n,\"is\",len(abundant))  #printing output "
   ]
  },
  {
   "attachments": {},
   "cell_type": "markdown",
   "metadata": {},
   "source": [
    "Encryption is the process of encoding information to prevent anyone other than its intended recipient from viewing it. Develop a Python program to encrypt a message based on the following criteria.\n",
    "\n",
    "The message will be encrypted using a given base (1 < base ≤ 10). You have to obtain the ASCII value of each character of the message and convert that number into the given base. After converting values of all the characters, aggregate (concatenate) those values in the character order and show it as the encrypted message.  \n",
    "\n",
    "Consider \"We\" to be the message and the required base = 2. Here,\n",
    "\n",
    " Take the ASCII values of \"W\" and \"e\". ASCII of \"W\" is 87 and ASCII of \"e\" is 101\n",
    "Convert the two values to the required base. In this case, binary (since base=2). \n",
    "87 in base 2 = 1010111\n",
    "101 in base 2 = 1100101\n",
    "Concatenate these two binary representations to obtain the encoded message \"10101111100101\"\n",
    "Note: For this exercise you can assume that the ord() function returns the required ASCII value for a given character. For backward compatibility, ASCII values have a one to one correspondence to UTF-8 values (8 bit representation of unicode)."
   ]
  },
  {
   "cell_type": "code",
   "execution_count": null,
   "metadata": {},
   "outputs": [],
   "source": [
    "message = input(\"Enter message: \") #getting user input for message\n",
    "base = int(input(\"Enter base: \")) #getting user input for base\n",
    "ascii_num = []\n",
    "new = ''\n",
    "for j in message: #iterating through the message string and appending the ascii values of the characters to a list \n",
    "    ascii_num.append(ord(j))\n",
    "for val in ascii_num: #iterating through the ascii_num list \n",
    "    remainders ='' #defining an empty string to remainders\n",
    "    while (val >0): #looping until quotient is  zero\n",
    "        r = val%base #getting remainder\n",
    "        val = val//base  \n",
    "        remainders += str(r) #concatanating the two strings\n",
    "    new += remainders[::-1] #reversing the remainders string\n",
    "print(new) #printing output"
   ]
  }
 ],
 "metadata": {
  "language_info": {
   "name": "python"
  },
  "orig_nbformat": 4
 },
 "nbformat": 4,
 "nbformat_minor": 2
}
