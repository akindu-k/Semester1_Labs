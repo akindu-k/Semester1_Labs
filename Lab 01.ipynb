{
 "cells": [
  {
   "cell_type": "code",
   "execution_count": null,
   "metadata": {},
   "outputs": [],
   "source": [
    "#Exercise 01\n",
    "#Implement a  Python program intended to compute the roots of the quadratic equation provided that (b^2-4*a*c)>=0, given integers a, b and c. "
   ]
  },
  {
   "cell_type": "code",
   "execution_count": null,
   "metadata": {},
   "outputs": [],
   "source": [
    "def roots(a,b,c):   #defining the function called \"roots\" which takes a,b and c as arguments\n",
    "    if (a==0):  #checking whether the coefficient of the x^2 is zero\n",
    "        print(\"Coefficient of x^2 should be non-zero.\")\n",
    "    delta = ((b**2)-(4*a*c))    #declaration of the variable delta\n",
    "    r1 = ((-b) + ((delta)**0.5))/(2*a)  #declaration of the variable r1\n",
    "    r2 = ((-b) - ((delta)**0.5))/(2*a)  #declaration of the variable r2\n",
    "    print(\"Roots are: \",r2,r1)\n",
    "        \n",
    "\n",
    "#getting inputs from the user\n",
    "a = int(input(\"Enter a :\"))\n",
    "b = int(input(\"Enter b :\"))\n",
    "c = int(input(\"Enter c :\"))\n",
    "#calling the function and passing the user inputs to the function\n",
    "roots(a,b,c)"
   ]
  },
  {
   "cell_type": "code",
   "execution_count": null,
   "metadata": {},
   "outputs": [],
   "source": [
    "#Exercise 02\n",
    "#Implement a C program that prints \"Hello, World!\"."
   ]
  },
  {
   "cell_type": "code",
   "execution_count": null,
   "metadata": {
    "vscode": {
     "languageId": "c"
    }
   },
   "outputs": [],
   "source": [
    "#include <stdio.h>\n",
    "int main() {\n",
    "    printf(\"Hello, World!\"); //passing the string \"Hello, World!\" into the printf() function\n",
    "    return 0;\n",
    "}\n"
   ]
  },
  {
   "cell_type": "code",
   "execution_count": null,
   "metadata": {},
   "outputs": [],
   "source": [
    "#Exercise 03\n",
    "##Implement a  C program intended to compute the roots of the quadratic equation provided that (b^2-4*a*c)>=0, given integers a, b and c. "
   ]
  },
  {
   "cell_type": "code",
   "execution_count": null,
   "metadata": {
    "vscode": {
     "languageId": "c"
    }
   },
   "outputs": [],
   "source": [
    "#include <stdio.h>\n",
    "#include <math.h>\n",
    "int main( ){\n",
    "int a, b, c, delta;\n",
    "float t, r1, r2;\n",
    "printf(\"Enter a: \");\n",
    "scanf(\"%d\", &a);\n",
    "printf(\"Enter b: \");\n",
    "scanf(\"%d\", &b);\n",
    "printf(\"Enter c: \");\n",
    "scanf(\"%d\", &c);\n",
    "if (a==0)\n",
    "printf (\"Coefficient a should be non-zero.\\n\");\n",
    "else {\n",
    "delta = b*b - 4*a*c;\n",
    "t = sqrt(delta);\n",
    "r1 = (-b - t) / (2*a);\n",
    "r2 = (-b + t) / (2*a);\n",
    "printf(\"Roots are: %.1f %.1f\\n\", r1, r2);\n",
    "}\n",
    "return 0;\n",
    "}"
   ]
  }
 ],
 "metadata": {
  "kernelspec": {
   "display_name": "Python 3",
   "language": "python",
   "name": "python3"
  },
  "language_info": {
   "codemirror_mode": {
    "name": "ipython",
    "version": 3
   },
   "file_extension": ".py",
   "mimetype": "text/x-python",
   "name": "python",
   "nbconvert_exporter": "python",
   "pygments_lexer": "ipython3",
   "version": "3.10.2"
  },
  "orig_nbformat": 4
 },
 "nbformat": 4,
 "nbformat_minor": 2
}
